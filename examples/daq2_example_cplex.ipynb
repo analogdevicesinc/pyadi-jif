{
 "cells": [
  {
   "cell_type": "markdown",
   "metadata": {
    "id": "MIo3cCVVThM-"
   },
   "source": [
    "Determine clocking for DAQ2 example [![Open In Colab](https://colab.research.google.com/assets/colab-badge.svg)](https://colab.research.google.com/github/tfcollins/pyadi-jif/blob/main/examples/daq2_example_cplex.ipynb)"
   ]
  },
  {
   "cell_type": "code",
   "execution_count": null,
   "metadata": {
    "colab": {
     "base_uri": "https://localhost:8080/"
    },
    "id": "GKP8BeUTFpAD",
    "outputId": "c764ff2e-9c04-4b12-de74-2be69bd294d7"
   },
   "outputs": [
    {
     "name": "stdout",
     "output_type": "stream",
     "text": [
      "Looking in indexes: https://test.pypi.org/simple/\n",
      "Requirement already up-to-date: pyadi-jif in /usr/local/lib/python3.7/dist-packages (0.0.2.dev1617641001)\n",
      "Requirement already satisfied, skipping upgrade: docplex<3.0.0,>=2.20.204 in /usr/local/lib/python3.7/dist-packages (from pyadi-jif) (2.20.204)\n",
      "Requirement already satisfied, skipping upgrade: cplex<21.0.0,>=20.1.0 in /usr/local/lib/python3.7/dist-packages (from pyadi-jif) (20.1.0.1)\n",
      "Requirement already satisfied, skipping upgrade: numpy<2.0.0,>=1.19.1 in /usr/local/lib/python3.7/dist-packages (from pyadi-jif) (1.19.5)\n",
      "Requirement already satisfied, skipping upgrade: requests in /usr/local/lib/python3.7/dist-packages (from docplex<3.0.0,>=2.20.204->pyadi-jif) (2.23.0)\n",
      "Requirement already satisfied, skipping upgrade: six in /usr/local/lib/python3.7/dist-packages (from docplex<3.0.0,>=2.20.204->pyadi-jif) (1.15.0)\n",
      "Requirement already satisfied, skipping upgrade: urllib3!=1.25.0,!=1.25.1,<1.26,>=1.21.1 in /usr/local/lib/python3.7/dist-packages (from requests->docplex<3.0.0,>=2.20.204->pyadi-jif) (1.24.3)\n",
      "Requirement already satisfied, skipping upgrade: certifi>=2017.4.17 in /usr/local/lib/python3.7/dist-packages (from requests->docplex<3.0.0,>=2.20.204->pyadi-jif) (2020.12.5)\n",
      "Requirement already satisfied, skipping upgrade: idna<3,>=2.5 in /usr/local/lib/python3.7/dist-packages (from requests->docplex<3.0.0,>=2.20.204->pyadi-jif) (2.10)\n",
      "Requirement already satisfied, skipping upgrade: chardet<4,>=3.0.2 in /usr/local/lib/python3.7/dist-packages (from requests->docplex<3.0.0,>=2.20.204->pyadi-jif) (3.0.4)\n"
     ]
    }
   ],
   "source": [
    "!pip install -U -i https://test.pypi.org/simple/ pyadi-jif"
   ]
  },
  {
   "cell_type": "code",
   "execution_count": 2,
   "metadata": {
    "colab": {
     "base_uri": "https://localhost:8080/"
    },
    "id": "S-_Z_GvFpnfG",
    "outputId": "67c77fba-5bec-4e68-e0a6-ffdd3074ab0b"
   },
   "outputs": [
    {
     "name": "stdout",
     "output_type": "stream",
     "text": [
      "{'clock': {'m1': 3,\n",
      "           'n2': 24,\n",
      "           'out_dividers': [1, 900, 10],\n",
      "           'output_clocks': {'AD9680_fpga_ref_clk': {'divider': 10,\n",
      "                                                     'rate': 100000000.0},\n",
      "                             'AD9680_ref_clk': {'divider': 1,\n",
      "                                                'rate': 1000000000.0},\n",
      "                             'AD9680_sysref': {'divider': 900,\n",
      "                                               'rate': 1111111.111111111}},\n",
      "           'part': 'AD9523-1',\n",
      "           'r2': 1,\n",
      "           'vco': 1000000000.0,\n",
      "           'vcxo': 125000000},\n",
      " 'converter': {'clocking_option': 'direct'},\n",
      " 'fpga_AD9680': {'band': 1,\n",
      "                 'd': 1,\n",
      "                 'm': 1,\n",
      "                 'n': 100,\n",
      "                 'qty4_full_rate_enabled': 0,\n",
      "                 'type': 'qpll',\n",
      "                 'vco': 10000000000.0}}\n"
     ]
    }
   ],
   "source": [
    "# Determine clocking for DAQ2\n",
    "import adijif\n",
    "import pprint\n",
    "\n",
    "vcxo = 125000000\n",
    "\n",
    "sys = adijif.system(\"ad9680\", \"ad9523_1\", \"xilinx\", vcxo, solver=\"CPLEX\")\n",
    "\n",
    "# Get Converter clocking requirements\n",
    "sys.converter.sample_clock = 1e9\n",
    "sys.converter.decimation = 1\n",
    "\n",
    "mode = adijif.utils.get_jesd_mode_from_params(\n",
    "        sys.converter, L=4, M=2, Np=16, F=1\n",
    "    )\n",
    "sys.converter.set_quick_configuration_mode(mode[0])\n",
    "\n",
    "# Get FPGA clocking requirements\n",
    "sys.fpga.setup_by_dev_kit_name(\"zc706\")\n",
    "sys.fpga.force_qpll = 1\n",
    "\n",
    "cfg = sys.solve()\n",
    "\n",
    "pprint.pprint(cfg)"
   ]
  }
 ],
 "metadata": {
  "colab": {
   "collapsed_sections": [],
   "name": "daq2_example_cplex.ipynb",
   "provenance": []
  },
  "kernelspec": {
   "display_name": "Python 3 (ipykernel)",
   "language": "python",
   "name": "python3"
  },
  "language_info": {
   "codemirror_mode": {
    "name": "ipython",
    "version": 3
   },
   "file_extension": ".py",
   "mimetype": "text/x-python",
   "name": "python",
   "nbconvert_exporter": "python",
   "pygments_lexer": "ipython3",
   "version": "3.8.10"
  }
 },
 "nbformat": 4,
 "nbformat_minor": 1
}
