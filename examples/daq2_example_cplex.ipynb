{
 "cells": [
  {
   "attachments": {},
   "cell_type": "markdown",
   "metadata": {
    "id": "MIo3cCVVThM-"
   },
   "source": [
    "Determine clocking for DAQ2 example [![Open In Colab](https://colab.research.google.com/assets/colab-badge.svg)](https://colab.research.google.com/github/tfcollins/pyadi-jif/blob/main/examples/daq2_example_cplex.ipynb)"
   ]
  },
  {
   "cell_type": "code",
   "execution_count": 3,
   "metadata": {
    "colab": {
     "base_uri": "https://localhost:8080/"
    },
    "id": "GKP8BeUTFpAD",
    "outputId": "c764ff2e-9c04-4b12-de74-2be69bd294d7"
   },
   "outputs": [],
   "source": [
    "# !pip install -U -i https://test.pypi.org/simple/ pyadi-jif"
   ]
  },
  {
   "cell_type": "code",
   "execution_count": 4,
   "metadata": {
    "colab": {
     "base_uri": "https://localhost:8080/"
    },
    "id": "S-_Z_GvFpnfG",
    "outputId": "67c77fba-5bec-4e68-e0a6-ffdd3074ab0b"
   },
   "outputs": [
    {
     "name": "stdout",
     "output_type": "stream",
     "text": [
      "{'clock': {'m1': 3,\n",
      "           'n2': 24,\n",
      "           'out_dividers': [1, 32, 4, 4],\n",
      "           'output_clocks': {'AD9680_ref_clk': {'divider': 1,\n",
      "                                                'rate': 1000000000.0},\n",
      "                             'AD9680_sysref': {'divider': 32,\n",
      "                                               'rate': 31250000.0},\n",
      "                             'zc706_AD9680_device_clk': {'divider': 4,\n",
      "                                                         'rate': 250000000.0},\n",
      "                             'zc706_AD9680_ref_clk': {'divider': 4,\n",
      "                                                      'rate': 250000000.0}},\n",
      "           'part': 'AD9523-1',\n",
      "           'r2': 1,\n",
      "           'vco': 1000000000.0,\n",
      "           'vcxo': 125000000},\n",
      " 'converter': [],\n",
      " 'converter_AD9680': {'clocking_option': 'direct', 'decimation': 1},\n",
      " 'fpga_AD9680': {'d': 1,\n",
      "                 'device_clock_source': 'external',\n",
      "                 'm': 1,\n",
      "                 'n': 40,\n",
      "                 'out_clk_select': 'XCVR_REFCLK',\n",
      "                 'sys_clk_select': 'XCVR_QPLL0',\n",
      "                 'transport_samples_per_clock': 4.0,\n",
      "                 'type': 'qpll',\n",
      "                 'vco': 10000000000.0},\n",
      " 'jesd_AD9680': {'CS': 0,\n",
      "                 'F': 1,\n",
      "                 'HD': 1,\n",
      "                 'K': 32,\n",
      "                 'L': 4,\n",
      "                 'M': 2,\n",
      "                 'Np': 16,\n",
      "                 'S': 1,\n",
      "                 'bit_clock': 10000000000.0,\n",
      "                 'converter_clock': 1000000000.0,\n",
      "                 'jesd_class': 'jesd204b',\n",
      "                 'jesd_mode': '136',\n",
      "                 'multiframe_clock': 31250000.0,\n",
      "                 'sample_clock': 1000000000.0}}\n"
     ]
    }
   ],
   "source": [
    "# Determine clocking for DAQ2\n",
    "import adijif\n",
    "import pprint\n",
    "\n",
    "vcxo = 125000000\n",
    "\n",
    "sys = adijif.system(\"ad9680\", \"ad9523_1\", \"xilinx\", vcxo, solver=\"CPLEX\")\n",
    "\n",
    "# Get Converter clocking requirements\n",
    "sys.converter.sample_clock = 1e9\n",
    "sys.converter.decimation = 1\n",
    "\n",
    "mode = adijif.utils.get_jesd_mode_from_params(\n",
    "        sys.converter, L=4, M=2, Np=16, F=1\n",
    "    )\n",
    "sys.converter.set_quick_configuration_mode(mode[0]['mode'], 'jesd204b')\n",
    "\n",
    "# Get FPGA clocking requirements\n",
    "sys.fpga.setup_by_dev_kit_name(\"zc706\")\n",
    "sys.fpga.force_qpll = 1\n",
    "\n",
    "cfg = sys.solve()\n",
    "\n",
    "pprint.pprint(cfg)"
   ]
  }
 ],
 "metadata": {
  "colab": {
   "collapsed_sections": [],
   "name": "daq2_example_cplex.ipynb",
   "provenance": []
  },
  "kernelspec": {
   "display_name": "venv",
   "language": "python",
   "name": "python3"
  },
  "language_info": {
   "codemirror_mode": {
    "name": "ipython",
    "version": 3
   },
   "file_extension": ".py",
   "mimetype": "text/x-python",
   "name": "python",
   "nbconvert_exporter": "python",
   "pygments_lexer": "ipython3",
   "version": "3.12.1"
  }
 },
 "nbformat": 4,
 "nbformat_minor": 1
}
