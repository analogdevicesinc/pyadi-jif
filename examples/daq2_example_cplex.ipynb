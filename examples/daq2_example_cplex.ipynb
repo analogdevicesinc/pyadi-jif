{
  "nbformat": 4,
  "nbformat_minor": 0,
  "metadata": {
    "colab": {
      "name": "daq2_example_cplex.ipynb",
      "provenance": [],
      "collapsed_sections": []
    },
    "kernelspec": {
      "name": "python3",
      "display_name": "Python 3"
    },
    "language_info": {
      "name": "python"
    }
  },
  "cells": [
    {
      "cell_type": "markdown",
      "metadata": {
        "id": "MIo3cCVVThM-"
      },
      "source": [
        "Determine clocking for DAQ2 example [![Open In Colab](https://colab.research.google.com/assets/colab-badge.svg)](https://colab.research.google.com/github/tfcollins/pyadi-jif/blob/main/examples/daq2_example_cplex.ipynb)"
      ]
    },
    {
      "cell_type": "code",
      "metadata": {
        "colab": {
          "base_uri": "https://localhost:8080/"
        },
        "id": "GKP8BeUTFpAD",
        "outputId": "c764ff2e-9c04-4b12-de74-2be69bd294d7"
      },
      "source": [
        "!pip install -U -i https://test.pypi.org/simple/ pyadi-jif"
      ],
      "execution_count": null,
      "outputs": [
        {
          "output_type": "stream",
          "text": [
            "Looking in indexes: https://test.pypi.org/simple/\n",
            "Requirement already up-to-date: pyadi-jif in /usr/local/lib/python3.7/dist-packages (0.0.2.dev1617641001)\n",
            "Requirement already satisfied, skipping upgrade: docplex<3.0.0,>=2.20.204 in /usr/local/lib/python3.7/dist-packages (from pyadi-jif) (2.20.204)\n",
            "Requirement already satisfied, skipping upgrade: cplex<21.0.0,>=20.1.0 in /usr/local/lib/python3.7/dist-packages (from pyadi-jif) (20.1.0.1)\n",
            "Requirement already satisfied, skipping upgrade: numpy<2.0.0,>=1.19.1 in /usr/local/lib/python3.7/dist-packages (from pyadi-jif) (1.19.5)\n",
            "Requirement already satisfied, skipping upgrade: requests in /usr/local/lib/python3.7/dist-packages (from docplex<3.0.0,>=2.20.204->pyadi-jif) (2.23.0)\n",
            "Requirement already satisfied, skipping upgrade: six in /usr/local/lib/python3.7/dist-packages (from docplex<3.0.0,>=2.20.204->pyadi-jif) (1.15.0)\n",
            "Requirement already satisfied, skipping upgrade: urllib3!=1.25.0,!=1.25.1,<1.26,>=1.21.1 in /usr/local/lib/python3.7/dist-packages (from requests->docplex<3.0.0,>=2.20.204->pyadi-jif) (1.24.3)\n",
            "Requirement already satisfied, skipping upgrade: certifi>=2017.4.17 in /usr/local/lib/python3.7/dist-packages (from requests->docplex<3.0.0,>=2.20.204->pyadi-jif) (2020.12.5)\n",
            "Requirement already satisfied, skipping upgrade: idna<3,>=2.5 in /usr/local/lib/python3.7/dist-packages (from requests->docplex<3.0.0,>=2.20.204->pyadi-jif) (2.10)\n",
            "Requirement already satisfied, skipping upgrade: chardet<4,>=3.0.2 in /usr/local/lib/python3.7/dist-packages (from requests->docplex<3.0.0,>=2.20.204->pyadi-jif) (3.0.4)\n"
          ],
          "name": "stdout"
        }
      ]
    },
    {
      "cell_type": "code",
      "metadata": {
        "colab": {
          "base_uri": "https://localhost:8080/"
        },
        "id": "S-_Z_GvFpnfG",
        "outputId": "67c77fba-5bec-4e68-e0a6-ffdd3074ab0b"
      },
      "source": [
        "# Determine clocking for DAQ2\n",
        "import adijif\n",
        "import pprint\n",
        "\n",
        "vcxo = 125000000\n",
        "\n",
        "sys = adijif.system(\"ad9680\", \"ad9523_1\", \"xilinx\", vcxo, solver=\"CPLEX\")\n",
        "\n",
        "# Get Converter clocking requirements\n",
        "sys.converter.sample_clock = 1e9\n",
        "sys.converter.datapath_decimation = 1\n",
        "sys.converter.L = 4\n",
        "sys.converter.M = 2\n",
        "sys.converter.N = 14\n",
        "sys.converter.Np = 16\n",
        "sys.converter.K = 32\n",
        "sys.converter.F = 1\n",
        "sys.converter.HD = 1\n",
        "sys.Debug_Solver = True\n",
        "\n",
        "# Get FPGA clocking requirements\n",
        "sys.fpga.setup_by_dev_kit_name(\"zc706\")\n",
        "sys.fpga.force_qpll = 1\n",
        "\n",
        "cfg = sys.solve()\n",
        "\n",
        "pprint.pprint(cfg)"
      ],
      "execution_count": null,
      "outputs": [
        {
          "output_type": "stream",
          "text": [
            "current_config {'L': 4, 'M': 2, 'F': 1, 'S': 1, 'HD': 1, 'Np': 16}\n",
            "FIXME LATER\n",
            "{'clock': {'m1': 3,\n",
            "           'n2': 72,\n",
            "           'out_dividers': [1, 800, 4],\n",
            "           'output_clocks': {'ad9680_adc_clock': {'divider': 1,\n",
            "                                                  'rate': 1000000000.0},\n",
            "                             'ad9680_sysref': {'divider': 800,\n",
            "                                               'rate': 1250000.0},\n",
            "                             'fpga_ref': {'divider': 4, 'rate': 250000000.0}},\n",
            "           'r2': 3},\n",
            " 'converter': ['AD9680'],\n",
            " 'fpga': {'band': 1,\n",
            "          'd': 1,\n",
            "          'm': 2,\n",
            "          'n': 80,\n",
            "          'qty4_full_rate_enabled': 0,\n",
            "          'type': 'qpll',\n",
            "          'vco': 10000000000.0}}\n"
          ],
          "name": "stdout"
        }
      ]
    }
  ]
}