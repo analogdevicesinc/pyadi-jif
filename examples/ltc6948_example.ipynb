{
 "cells": [
  {
   "cell_type": "code",
   "execution_count": 1,
   "metadata": {},
   "outputs": [
    {
     "name": "stdout",
     "output_type": "stream",
     "text": [
      "HERE\n",
      "{'VCO': 5764949989.318848,\n",
      " 'f': 0.2989997863769531,\n",
      " 'f_numerator': 78381,\n",
      " 'fractional_mode': True,\n",
      " 'n': 115,\n",
      " 'out_dividers': [3],\n",
      " 'output_clocks': {'CLK': {'divider': 3, 'rate': 1921649996.439616}},\n",
      " 'r': 2,\n",
      " 'ref_in': 100000000}\n",
      "Error: -3.5603840351104736 Hz\n"
     ]
    }
   ],
   "source": [
    "import adijif\n",
    "import pprint\n",
    "\n",
    "ref_in = int(100e6)\n",
    "\n",
    "clk = adijif.ltc6948()\n",
    "clk.minimize_feedback_dividers = False\n",
    "\n",
    "clk.fractional_mode = True\n",
    "rf_out = 1921.65e6\n",
    "clk.r = 2\n",
    "clock_names = \"CLK\"\n",
    "clk.set_requested_clocks(ref_in, rf_out, clock_names, tolerance=0.00000001)\n",
    "\n",
    "clk.solve()\n",
    "\n",
    "o = clk.get_config()\n",
    "\n",
    "pprint.pprint(o)\n",
    "\n",
    "rf_out_est = o['output_clocks'][clock_names]['rate']\n",
    "error = rf_out_est - rf_out\n",
    "print(f\"Error: {error} Hz\")\n"
   ]
  }
 ],
 "metadata": {
  "kernelspec": {
   "display_name": "pyadi-jif-kEBRnbAQ-py3.10",
   "language": "python",
   "name": "python3"
  },
  "language_info": {
   "codemirror_mode": {
    "name": "ipython",
    "version": 3
   },
   "file_extension": ".py",
   "mimetype": "text/x-python",
   "name": "python",
   "nbconvert_exporter": "python",
   "pygments_lexer": "ipython3",
   "version": "3.10.12"
  }
 },
 "nbformat": 4,
 "nbformat_minor": 2
}
