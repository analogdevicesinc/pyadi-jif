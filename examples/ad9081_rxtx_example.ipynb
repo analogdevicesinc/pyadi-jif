{
  "cells": [
    {
      "attachments": {},
      "cell_type": "markdown",
      "metadata": {
        "id": "mOB_b_gqyE-R"
      },
      "source": [
        "# AD9081 + ZCU102 Example Configuration [![Open In Colab](https://colab.research.google.com/assets/colab-badge.svg)](https://colab.research.google.com/github/analogdevicesinc/pyadi-jif/blob/main/examples/ad9081_rxtx_example.ipynb)\n",
        "\n",
        "\n",
        "\n",
        "\n",
        "This example walks through the process of creating a valid configuration for the AD9081 FMC card and ZCU102 FPGA development kit. It leverages the tools pyadi-jif to create configurations and pyadi-dt to generate template devicetrees."
      ]
    },
    {
      "cell_type": "code",
      "execution_count": 1,
      "metadata": {
        "colab": {
          "base_uri": "https://localhost:8080/"
        },
        "id": "3YWEOovWRAE5",
        "outputId": "0cb168af-d61f-4614-e699-e8062d247e7c"
      },
      "outputs": [],
      "source": [
        "# Install dependencies\n",
        "#!pip install --index-url https://test.pypi.org/simple/ pyadi-jif[cplex] > /dev/null"
      ]
    },
    {
      "attachments": {},
      "cell_type": "markdown",
      "metadata": {
        "id": "rHDY3HG6yBiS"
      },
      "source": []
    },
    {
      "cell_type": "code",
      "execution_count": 2,
      "metadata": {
        "colab": {
          "base_uri": "https://localhost:8080/"
        },
        "id": "sy3qUgOtRZZY",
        "outputId": "422ac9e2-cb1c-490b-81c4-f0c28af584b1"
      },
      "outputs": [
        {
          "name": "stdout",
          "output_type": "stream",
          "text": [
            "DAC Late rate: 12000000000.0\n",
            "ADC Late rate: 12000000000.0\n",
            "Continued\n",
            "Continued\n",
            "{'clock': {'n2': 24,\n",
            "           'out_dividers': [5, 128, 128, 8, 8, 8, 8],\n",
            "           'output_clocks': {'AD9081_ref_clk': {'divider': 5,\n",
            "                                                'rate': 480000000.0},\n",
            "                             'adc_sysref': {'divider': 128, 'rate': 18750000.0},\n",
            "                             'dac_sysref': {'divider': 128, 'rate': 18750000.0},\n",
            "                             'zcu102_adc_device_clk': {'divider': 8,\n",
            "                                                       'rate': 300000000.0},\n",
            "                             'zcu102_adc_ref_clk': {'divider': 8,\n",
            "                                                    'rate': 300000000.0},\n",
            "                             'zcu102_dac_device_clk': {'divider': 8,\n",
            "                                                       'rate': 300000000.0},\n",
            "                             'zcu102_dac_ref_clk': {'divider': 8,\n",
            "                                                    'rate': 300000000.0}},\n",
            "           'r2': 1,\n",
            "           'vco': 2400000000.0,\n",
            "           'vcxo': 100000000.0,\n",
            "           'vcxo_doubler': 1},\n",
            " 'converter': {'clocking_option': 'integrated_pll',\n",
            "               'pll_config': {'d': 1,\n",
            "                              'm_vco': 5,\n",
            "                              'n_vco': 3,\n",
            "                              'r': 1,\n",
            "                              'serdes_pll_div': 1}},\n",
            " 'datapath_adc': {'cddc': {'decimations': [6, 6, 6, 6],\n",
            "                           'enabled': [True, True, True, True],\n",
            "                           'nco_frequencies': [0, 0, 0, 0],\n",
            "                           'nco_phases': [0, 0, 0, 0]},\n",
            "                  'fddc': {'decimations': [1, 1, 1, 1, 1, 1, 1, 1],\n",
            "                           'enabled': [False,\n",
            "                                       False,\n",
            "                                       False,\n",
            "                                       False,\n",
            "                                       False,\n",
            "                                       False,\n",
            "                                       False,\n",
            "                                       False],\n",
            "                           'nco_frequencies': [0, 0, 0, 0, 0, 0, 0, 0],\n",
            "                           'nco_phases': [0, 0, 0, 0, 0, 0, 0, 0],\n",
            "                           'source': [1, 1, 2, 2, 3, 3, 4, 4]}},\n",
            " 'datapath_dac': {'cduc': {'enabled': [True, True, True, True],\n",
            "                           'interpolation': 12,\n",
            "                           'nco_frequencies': [0, 0, 0, 0],\n",
            "                           'nco_phases': [0, 0, 0, 0],\n",
            "                           'sources': [[1], [1], [3], [3]]},\n",
            "                  'fduc': {'enabled': [False,\n",
            "                                       False,\n",
            "                                       False,\n",
            "                                       False,\n",
            "                                       False,\n",
            "                                       False,\n",
            "                                       False,\n",
            "                                       False],\n",
            "                           'interpolation': 1,\n",
            "                           'nco_frequencies': [0, 0, 0, 0, 0, 0, 0, 0],\n",
            "                           'nco_phases': [0, 0, 0, 0, 0, 0, 0, 0]}},\n",
            " 'fpga_adc': {'clkout_rate': 1,\n",
            "              'd': 2,\n",
            "              'device_clock_source': 'external',\n",
            "              'm': 1,\n",
            "              'n': 40,\n",
            "              'n_dot_frac': 40,\n",
            "              'out_clk_select': 'XCVR_REFCLK',\n",
            "              'sys_clk_select': 'XCVR_QPLL0',\n",
            "              'transport_samples_per_clock': 2.0,\n",
            "              'type': 'qpll',\n",
            "              'vco': 12000000000},\n",
            " 'fpga_dac': {'clkout_rate': 1,\n",
            "              'd': 2,\n",
            "              'device_clock_source': 'external',\n",
            "              'm': 1,\n",
            "              'n': 40,\n",
            "              'n_dot_frac': 40,\n",
            "              'out_clk_select': 'XCVR_REFCLK',\n",
            "              'sys_clk_select': 'XCVR_QPLL0',\n",
            "              'transport_samples_per_clock': 2.0,\n",
            "              'type': 'qpll',\n",
            "              'vco': 12000000000},\n",
            " 'jesd_adc': {'CS': 0,\n",
            "              'F': 2,\n",
            "              'HD': 0,\n",
            "              'K': 32,\n",
            "              'L': 4,\n",
            "              'M': 4,\n",
            "              'Np': 16,\n",
            "              'S': 1,\n",
            "              'bit_clock': 12000000000.0,\n",
            "              'converter_clock': 3600000000.0,\n",
            "              'jesd_class': 'jesd204b',\n",
            "              'jesd_mode': '11.0',\n",
            "              'multiframe_clock': 18750000.0,\n",
            "              'sample_clock': 600000000.0},\n",
            " 'jesd_dac': {'CS': 0,\n",
            "              'F': 2,\n",
            "              'HD': 0,\n",
            "              'K': 32,\n",
            "              'L': 4,\n",
            "              'M': 4,\n",
            "              'Np': 16,\n",
            "              'S': 1,\n",
            "              'bit_clock': 12000000000.0,\n",
            "              'converter_clock': 7200000000.0,\n",
            "              'jesd_class': 'jesd204b',\n",
            "              'jesd_mode': '10',\n",
            "              'multiframe_clock': 18750000.0,\n",
            "              'sample_clock': 600000000.0}}\n"
          ]
        }
      ],
      "source": [
        "# Determine AD9081+ZCU102 Configuration For RX and TX contrained together\n",
        "\n",
        "import adijif\n",
        "from pprint import pprint\n",
        "\n",
        "vcxo = 100e6\n",
        "\n",
        "sys = adijif.system(\"ad9081\", \"hmc7044\", \"xilinx\", vcxo, solver=\"CPLEX\")\n",
        "sys.fpga.setup_by_dev_kit_name(\"zcu102\")\n",
        "\n",
        "\n",
        "# Find matching JESD204 params\n",
        "params = {'L': 4, 'M': 4, 'F': 2, 'jesd_class': 'jesd204b'}\n",
        "rx_mode = adijif.utils.get_jesd_mode_from_params(sys.converter.adc, **params)\n",
        "tx_mode = adijif.utils.get_jesd_mode_from_params(sys.converter.dac, **params)\n",
        "\n",
        "sys.converter.dac.set_quick_configuration_mode(tx_mode[0]['mode'], \"jesd204b\")\n",
        "sys.converter.adc.set_quick_configuration_mode(rx_mode[0]['mode'], \"jesd204b\")\n",
        "sys.converter.clocking_option = \"integrated_pll\"\n",
        "sys.converter.dac.sample_clock = int(7.2e9) / (12 * 1)\n",
        "sys.converter.adc.sample_clock = int(3.6e9) / (6 * 1)\n",
        "\n",
        "# Datapath settings\n",
        "sys.converter.dac.datapath.cduc_interpolation = 12\n",
        "sys.converter.adc.datapath.cddc_enabled = [False, False, False, False]\n",
        "sys.converter.adc.datapath.cddc_decimations = [6, 6, 6, 6]\n",
        "sys.converter.adc.datapath.cddc_enabled = [True, True, True, True]\n",
        "\n",
        "# The HDL design wants a core clock and not a device (frame) clock\n",
        "sys.fpga.requires_core_clock_from_device_clock = True\n",
        "sys.fpga.force_qpll = {\n",
        "    sys.converter.adc: True,\n",
        "    sys.converter.dac: True,\n",
        "}\n",
        "\n",
        "print(f'DAC Late rate: {sys.converter.dac.bit_clock}')\n",
        "print(f'ADC Late rate: {sys.converter.adc.bit_clock}')\n",
        "\n",
        "cfg = sys.solve()\n",
        "assert cfg\n",
        "pprint(cfg)\n",
        "\n"
      ]
    },
    {
      "attachments": {},
      "cell_type": "markdown",
      "metadata": {
        "id": "CAIMHQePgaUN"
      },
      "source": [
        "# Build HDL\n",
        "\n",
        "Generate necessary make command for the HDL reference design with the required parameters"
      ]
    },
    {
      "cell_type": "code",
      "execution_count": 3,
      "metadata": {
        "colab": {
          "base_uri": "https://localhost:8080/"
        },
        "id": "oD3RAZ3AW6J_",
        "outputId": "add5c137-bb71-43fd-c3d9-2a63bc290577"
      },
      "outputs": [
        {
          "name": "stdout",
          "output_type": "stream",
          "text": [
            "make JESD_MODE=8B10B RX_LANE_RATE=12 RX_JESD_L=4 RX_JESD_M=4 RX_JESD_S=1 TX_LANE_RATE=12 TX_JESD_L=4 TX_JESD_M=4 TX_JESD_S=1\n"
          ]
        }
      ],
      "source": [
        "tx = sys.converter.dac\n",
        "rx = sys.converter.adc\n",
        "\n",
        "# Create make command for JESD\n",
        "def add_params(rtx, RT):\n",
        "  return f\"{RT}X_LANE_RATE={int(rtx.bit_clock/1e9)} {RT}X_JESD_L={rtx.L} {RT}X_JESD_M={rtx.M} {RT}X_JESD_S={rtx.S}\"\n",
        "make_cmd = f\"make JESD_MODE={rx.encoding.upper()} \"\n",
        "make_cmd += add_params(rx, \"R\")+\" \"\n",
        "make_cmd += add_params(tx, \"T\")\n",
        "print(make_cmd)"
      ]
    },
    {
      "attachments": {},
      "cell_type": "markdown",
      "metadata": {
        "id": "OPUGzXRAjvox"
      },
      "source": [
        "# Create Updated node for AD9081, FPGA, and Clocks\n",
        "\n",
        "Leverage pyadi-dt to translate configuration to example devicetree.\n"
      ]
    },
    {
      "cell_type": "code",
      "execution_count": 4,
      "metadata": {
        "colab": {
          "base_uri": "https://localhost:8080/"
        },
        "id": "Vnf9aB2Vkp0C",
        "outputId": "f99d1218-3057-4185-e0b1-5f41420c399d"
      },
      "outputs": [],
      "source": [
        "#!pip install --force-reinstall --no-cache-dir git+https://github.com/analogdevicesinc/pyadi-dt.git  > /dev/null"
      ]
    },
    {
      "cell_type": "code",
      "execution_count": null,
      "metadata": {
        "colab": {
          "base_uri": "https://localhost:8080/"
        },
        "id": "VdLVDMCAkv1g",
        "outputId": "7bcb1b72-0f23-4c58-beac-69a393d12a12"
      },
      "outputs": [
        {
          "ename": "KeyError",
          "evalue": "'adc_fpga_ref_clk'",
          "output_type": "error",
          "traceback": [
            "\u001b[0;31m---------------------------------------------------------------------------\u001b[0m",
            "\u001b[0;31mKeyError\u001b[0m                                  Traceback (most recent call last)",
            "Cell \u001b[0;32mIn[5], line 7\u001b[0m\n\u001b[1;32m      5\u001b[0m cfg[\u001b[38;5;124m'\u001b[39m\u001b[38;5;124mclock\u001b[39m\u001b[38;5;124m'\u001b[39m][\u001b[38;5;124m'\u001b[39m\u001b[38;5;124moutput_clocks\u001b[39m\u001b[38;5;124m'\u001b[39m][\u001b[38;5;124m'\u001b[39m\u001b[38;5;124madc_fpga_link_out_clk\u001b[39m\u001b[38;5;124m'\u001b[39m] \u001b[38;5;241m=\u001b[39m cfg[\u001b[38;5;124m'\u001b[39m\u001b[38;5;124mclock\u001b[39m\u001b[38;5;124m'\u001b[39m][\u001b[38;5;124m'\u001b[39m\u001b[38;5;124moutput_clocks\u001b[39m\u001b[38;5;124m'\u001b[39m][\u001b[38;5;124m'\u001b[39m\u001b[38;5;124mzcu102_adc_device_clk\u001b[39m\u001b[38;5;124m'\u001b[39m]\n\u001b[1;32m      6\u001b[0m cfg[\u001b[38;5;124m'\u001b[39m\u001b[38;5;124mclock\u001b[39m\u001b[38;5;124m'\u001b[39m][\u001b[38;5;124m'\u001b[39m\u001b[38;5;124moutput_clocks\u001b[39m\u001b[38;5;124m'\u001b[39m][\u001b[38;5;124m'\u001b[39m\u001b[38;5;124mdac_fpga_link_out_clk\u001b[39m\u001b[38;5;124m'\u001b[39m] \u001b[38;5;241m=\u001b[39m cfg[\u001b[38;5;124m'\u001b[39m\u001b[38;5;124mclock\u001b[39m\u001b[38;5;124m'\u001b[39m][\u001b[38;5;124m'\u001b[39m\u001b[38;5;124moutput_clocks\u001b[39m\u001b[38;5;124m'\u001b[39m][\u001b[38;5;124m'\u001b[39m\u001b[38;5;124mzcu102_dac_device_clk\u001b[39m\u001b[38;5;124m'\u001b[39m]\n\u001b[0;32m----> 7\u001b[0m clock, adc, dac, fpga \u001b[38;5;241m=\u001b[39m \u001b[43mfmc\u001b[49m\u001b[38;5;241;43m.\u001b[39;49m\u001b[43mmap_clocks_to_board_layout\u001b[49m\u001b[43m(\u001b[49m\u001b[43mcfg\u001b[49m\u001b[43m)\u001b[49m\n\u001b[1;32m      8\u001b[0m fn \u001b[38;5;241m=\u001b[39m fmc\u001b[38;5;241m.\u001b[39mgen_dt(clock\u001b[38;5;241m=\u001b[39mclock, adc\u001b[38;5;241m=\u001b[39madc, dac\u001b[38;5;241m=\u001b[39mdac, fpga\u001b[38;5;241m=\u001b[39mfpga)\n\u001b[1;32m     10\u001b[0m \u001b[38;5;66;03m# Read in generate DTS file\u001b[39;00m\n",
            "File \u001b[0;32m/tmp/jif-fpga/venv/lib/python3.9/site-packages/adidt/boards/ad9081_fmc.py:91\u001b[0m, in \u001b[0;36mad9081_fmc.map_clocks_to_board_layout\u001b[0;34m(self, cfg)\u001b[0m\n\u001b[1;32m     78\u001b[0m \u001b[38;5;28mmap\u001b[39m[\u001b[38;5;124m\"\u001b[39m\u001b[38;5;124mDEV_REFCLK\u001b[39m\u001b[38;5;124m\"\u001b[39m] \u001b[38;5;241m=\u001b[39m {\n\u001b[1;32m     79\u001b[0m     \u001b[38;5;124m\"\u001b[39m\u001b[38;5;124msource_port\u001b[39m\u001b[38;5;124m\"\u001b[39m: \u001b[38;5;241m2\u001b[39m,\n\u001b[1;32m     80\u001b[0m     \u001b[38;5;124m\"\u001b[39m\u001b[38;5;124mdivider\u001b[39m\u001b[38;5;124m\"\u001b[39m: clk[\u001b[38;5;124m\"\u001b[39m\u001b[38;5;124mAD9081_ref_clk\u001b[39m\u001b[38;5;124m\"\u001b[39m][\u001b[38;5;124m\"\u001b[39m\u001b[38;5;124mdivider\u001b[39m\u001b[38;5;124m\"\u001b[39m],\n\u001b[1;32m     81\u001b[0m }\n\u001b[1;32m     82\u001b[0m \u001b[38;5;28mmap\u001b[39m[\u001b[38;5;124m\"\u001b[39m\u001b[38;5;124mDEV_SYSREF\u001b[39m\u001b[38;5;124m\"\u001b[39m] \u001b[38;5;241m=\u001b[39m {\n\u001b[1;32m     83\u001b[0m     \u001b[38;5;124m\"\u001b[39m\u001b[38;5;124msource_port\u001b[39m\u001b[38;5;124m\"\u001b[39m: \u001b[38;5;241m3\u001b[39m,\n\u001b[1;32m     84\u001b[0m     \u001b[38;5;124m\"\u001b[39m\u001b[38;5;124mdivider\u001b[39m\u001b[38;5;124m\"\u001b[39m: np\u001b[38;5;241m.\u001b[39mmax(\n\u001b[1;32m     85\u001b[0m         [clk[\u001b[38;5;124m\"\u001b[39m\u001b[38;5;124madc_sysref\u001b[39m\u001b[38;5;124m\"\u001b[39m][\u001b[38;5;124m\"\u001b[39m\u001b[38;5;124mdivider\u001b[39m\u001b[38;5;124m\"\u001b[39m], clk[\u001b[38;5;124m\"\u001b[39m\u001b[38;5;124mdac_sysref\u001b[39m\u001b[38;5;124m\"\u001b[39m][\u001b[38;5;124m\"\u001b[39m\u001b[38;5;124mdivider\u001b[39m\u001b[38;5;124m\"\u001b[39m]]\n\u001b[1;32m     86\u001b[0m     ),\n\u001b[1;32m     87\u001b[0m }\n\u001b[1;32m     88\u001b[0m \u001b[38;5;28mmap\u001b[39m[\u001b[38;5;124m\"\u001b[39m\u001b[38;5;124mFPGA_SYSREF\u001b[39m\u001b[38;5;124m\"\u001b[39m] \u001b[38;5;241m=\u001b[39m {\n\u001b[1;32m     89\u001b[0m     \u001b[38;5;124m\"\u001b[39m\u001b[38;5;124msource_port\u001b[39m\u001b[38;5;124m\"\u001b[39m: \u001b[38;5;241m13\u001b[39m,\n\u001b[1;32m     90\u001b[0m     \u001b[38;5;124m\"\u001b[39m\u001b[38;5;124mdivider\u001b[39m\u001b[38;5;124m\"\u001b[39m: np\u001b[38;5;241m.\u001b[39mmax(\n\u001b[0;32m---> 91\u001b[0m         [\u001b[43mclk\u001b[49m\u001b[43m[\u001b[49m\u001b[38;5;124;43m\"\u001b[39;49m\u001b[38;5;124;43madc_fpga_ref_clk\u001b[39;49m\u001b[38;5;124;43m\"\u001b[39;49m\u001b[43m]\u001b[49m[\u001b[38;5;124m\"\u001b[39m\u001b[38;5;124mdivider\u001b[39m\u001b[38;5;124m\"\u001b[39m], clk[\u001b[38;5;124m\"\u001b[39m\u001b[38;5;124mdac_sysref\u001b[39m\u001b[38;5;124m\"\u001b[39m][\u001b[38;5;124m\"\u001b[39m\u001b[38;5;124mdivider\u001b[39m\u001b[38;5;124m\"\u001b[39m]]\n\u001b[1;32m     92\u001b[0m     ),\n\u001b[1;32m     93\u001b[0m }\n\u001b[1;32m     95\u001b[0m \u001b[38;5;66;03m# RX side\u001b[39;00m\n\u001b[1;32m     96\u001b[0m \u001b[38;5;28mmap\u001b[39m[\u001b[38;5;124m\"\u001b[39m\u001b[38;5;124mCORE_CLK_RX\u001b[39m\u001b[38;5;124m\"\u001b[39m] \u001b[38;5;241m=\u001b[39m {\n\u001b[1;32m     97\u001b[0m     \u001b[38;5;124m\"\u001b[39m\u001b[38;5;124msource_port\u001b[39m\u001b[38;5;124m\"\u001b[39m: \u001b[38;5;241m0\u001b[39m,\n\u001b[1;32m     98\u001b[0m     \u001b[38;5;124m\"\u001b[39m\u001b[38;5;124mdivider\u001b[39m\u001b[38;5;124m\"\u001b[39m: clk[\u001b[38;5;124m\"\u001b[39m\u001b[38;5;124madc_fpga_link_out_clk\u001b[39m\u001b[38;5;124m\"\u001b[39m][\u001b[38;5;124m\"\u001b[39m\u001b[38;5;124mdivider\u001b[39m\u001b[38;5;124m\"\u001b[39m],\n\u001b[1;32m     99\u001b[0m }\n",
            "\u001b[0;31mKeyError\u001b[0m: 'adc_fpga_ref_clk'"
          ]
        }
      ],
      "source": [
        "import adidt\n",
        "\n",
        "fmc = adidt.ad9081_fmc()\n",
        "# Change name for backwards compatibility\n",
        "cfg['clock']['output_clocks']['adc_fpga_link_out_clk'] = cfg['clock']['output_clocks']['zcu102_adc_device_clk']\n",
        "cfg['clock']['output_clocks']['dac_fpga_link_out_clk'] = cfg['clock']['output_clocks']['zcu102_dac_device_clk']\n",
        "cfg['clock']['output_clocks']['adc_fpga_ref_clk'] = cfg['clock']['output_clocks']['zcu102_adc_ref_clk']\n",
        "cfg['clock']['output_clocks']['dac_fpga_ref_clk'] = cfg['clock']['output_clocks']['zcu102_dac_ref_clk']\n",
        "\n",
        "clock, adc, dac, fpga = fmc.map_clocks_to_board_layout(cfg)\n",
        "fn = fmc.gen_dt(clock=clock, adc=adc, dac=dac, fpga=fpga)\n",
        "\n",
        "# Read in generate DTS file\n",
        "with open(fn, 'r') as f:\n",
        "    dts = f.read()\n",
        "\n",
        "print(dts)"
      ]
    }
  ],
  "metadata": {
    "colab": {
      "provenance": []
    },
    "kernelspec": {
      "display_name": "venv",
      "language": "python",
      "name": "python3"
    },
    "language_info": {
      "codemirror_mode": {
        "name": "ipython",
        "version": 3
      },
      "file_extension": ".py",
      "mimetype": "text/x-python",
      "name": "python",
      "nbconvert_exporter": "python",
      "pygments_lexer": "ipython3",
      "version": "3.9.20"
    }
  },
  "nbformat": 4,
  "nbformat_minor": 0
}
