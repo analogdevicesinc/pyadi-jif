{
 "cells": [
  {
   "cell_type": "markdown",
   "id": "7102f21e",
   "metadata": {},
   "source": [
    "# Max Rate Utility Example\n",
    "\n",
    "This example shows the use of the utility function **get_max_sample_rates** to determine the maximum same rates based on the number of converters (JESD param M) and limitations based on the FPGA itself.\n",
    "\n",
    "For reference:\n",
    "- L is the number of lanes used per link and \n",
    "- Sample clock is in samples per second\n",
    "- Bit clock is equilavent to lane rate (bit clock is the technical name for lane rate)"
   ]
  },
  {
   "cell_type": "code",
   "execution_count": null,
   "id": "56bfd236",
   "metadata": {},
   "outputs": [],
   "source": [
    "!pip install -r requirements_ex_util_max_rate.txt\n",
    "!pip install -U -i https://test.pypi.org/simple/ pyadi-jif"
   ]
  },
  {
   "cell_type": "code",
   "execution_count": 1,
   "id": "7d3bd819",
   "metadata": {},
   "outputs": [
    {
     "data": {
      "application/javascript": [
       "require.config({\n",
       "    paths: {\n",
       "        datatables: 'https://cdn.datatables.net/1.10.19/js/jquery.dataTables.min',\n",
       "    }\n",
       "});\n",
       "\n",
       "$('head').append('<link rel=\"stylesheet\" type=\"text/css\" \\\n",
       "                href = \"https://cdn.datatables.net/1.10.19/css/jquery.dataTables.min.css\" > ');\n",
       "\n",
       "$('head').append('<style> table td { text-overflow: ellipsis; overflow: hidden; } </style>');\n",
       "\n",
       "$('head').append(`<script>\n",
       "function eval_functions(map_or_text) {\n",
       "    if (typeof map_or_text === \"string\") {\n",
       "        if (map_or_text.startsWith(\"function\")) {\n",
       "            try {\n",
       "                // Note: parenthesis are required around the whole expression for eval to return a value!\n",
       "                // See https://stackoverflow.com/a/7399078/911298.\n",
       "                //\n",
       "                // eval(\"local_fun = \" + map_or_text) would fail because local_fun is not declared\n",
       "                // (using var, let or const would work, but it would only be declared in the local scope\n",
       "                // and therefore the value could not be retrieved).\n",
       "                const func = eval(\"(\" + map_or_text + \")\");\n",
       "                if (typeof func !== \"function\") {\n",
       "                    // Note: backquotes are super convenient!\n",
       "                    // https://developer.mozilla.org/en-US/docs/Web/JavaScript/Reference/Template_literals\n",
       "                    console.error(\"Evaluated expression \" + map_or_text + \" is not a function (type is \" + typeof func + \")\");\n",
       "                    return map_or_text;\n",
       "                }\n",
       "                // Return the function\n",
       "                return func;\n",
       "            } catch (e) {\n",
       "                // Make sure to print the error with a second argument to console.error().\n",
       "                console.error(\"itables was not able to parse \" + map_or_text, e);\n",
       "            }\n",
       "        }\n",
       "    } else if (typeof map_or_text === \"object\") {\n",
       "        if (map_or_text instanceof Array) {\n",
       "            // Note: \"var\" is now superseded by \"let\" and \"const\".\n",
       "            // https://medium.com/javascript-scene/javascript-es6-var-let-or-const-ba58b8dcde75\n",
       "            const result = [];\n",
       "            // Note: \"for of\" is the best way to iterate through an iterable.\n",
       "            // https://developer.mozilla.org/en-US/docs/Web/JavaScript/Reference/Statements/for...of\n",
       "            for (const item of map_or_text) {\n",
       "                result.push(eval_functions(item));\n",
       "            }\n",
       "            return result;\n",
       "\n",
       "            // Alternatively, more functional approach in one line:\n",
       "            // return map_or_text.map(eval_functions);\n",
       "        } else {\n",
       "            const result = {};\n",
       "            // Object.keys() is safer than \"for in\" because otherwise you might have keys\n",
       "            // that aren't defined in the object itself.\n",
       "            //\n",
       "            // See https://stackoverflow.com/a/684692/911298.\n",
       "            for (const item of Object.keys(map_or_text)) {\n",
       "                result[item] = eval_functions(map_or_text[item]);\n",
       "            }\n",
       "            return result;\n",
       "        }\n",
       "    }\n",
       "\n",
       "    return map_or_text;\n",
       "}\n",
       "\n",
       "</` + 'script>');"
      ],
      "text/plain": [
       "<IPython.core.display.Javascript object>"
      ]
     },
     "metadata": {},
     "output_type": "display_data"
    }
   ],
   "source": [
    "# This example determines the maximum sample rate based on\n",
    "# FPGA platform and JESD204 class\n",
    "import adijif as jif\n",
    "import numpy as np\n",
    "import pandas as pd\n",
    "from itables import init_notebook_mode\n",
    "init_notebook_mode(all_interactive=True)"
   ]
  },
  {
   "cell_type": "code",
   "execution_count": 2,
   "id": "0458c36f",
   "metadata": {},
   "outputs": [
    {
     "data": {
      "text/html": [
       "<div><table id=\"5b53dae6-f266-43d2-9005-149980f38659\" class=\"display\"><thead>\n",
       "    <tr style=\"text-align: right;\">\n",
       "      \n",
       "      <th>sample_clock</th>\n",
       "      <th>bit_clock</th>\n",
       "      <th>L</th>\n",
       "      <th>M</th>\n",
       "      <th>quick_configuration_mode</th>\n",
       "    </tr>\n",
       "  </thead></table>\n",
       "<script type=\"text/javascript\">\n",
       "require([\"datatables\"], function (datatables) {\n",
       "    $(document).ready(function () {\n",
       "        var dt_args = {\"columnDefs\": [{\"width\": \"70px\", \"targets\": \"_all\"}], \"paging\": false, \"data\": [[4000000000.0, 10000000000.0, 8, 1, \"963\"], [3333333000.0, 12500000000.0, 8, 2, \"1263\"], [625000000.0, 12500000000.0, 3, 3, \"859\"], [1666667000.0, 12500000000.0, 8, 4, \"1261\"], [625000000.0, 12500000000.0, 6, 6, \"919\"], [833333300.0, 12500000000.0, 8, 8, \"1259\"], [312500000.0, 12500000000.0, 6, 12, \"206\"], [312500000.0, 12500000000.0, 8, 16, \"234\"]]};\n",
       "        dt_args = eval_functions(dt_args);\n",
       "        table = $('#5b53dae6-f266-43d2-9005-149980f38659').DataTable(dt_args);\n",
       "    });\n",
       "})\n",
       "</script>\n",
       "</div>\n"
      ],
      "text/plain": [
       "   sample_clock     bit_clock  L   M quick_configuration_mode\n",
       "0  4.000000e+09  1.000000e+10  8   1                      963\n",
       "1  3.333333e+09  1.250000e+10  8   2                     1263\n",
       "2  6.250000e+08  1.250000e+10  3   3                      859\n",
       "3  1.666667e+09  1.250000e+10  8   4                     1261\n",
       "4  6.250000e+08  1.250000e+10  6   6                      919\n",
       "5  8.333333e+08  1.250000e+10  8   8                     1259\n",
       "6  3.125000e+08  1.250000e+10  6  12                      206\n",
       "7  3.125000e+08  1.250000e+10  8  16                      234"
      ]
     },
     "execution_count": 2,
     "metadata": {},
     "output_type": "execute_result"
    }
   ],
   "source": [
    "# Set up Converter and FPGA models\n",
    "conv = jif.ad9081_rx()\n",
    "\n",
    "fpga = jif.xilinx()\n",
    "fpga.setup_by_dev_kit_name(\"zc706\")\n",
    "fpga.sys_clk_select = \"GTH34_SYSCLK_QPLL0\"  # Use faster QPLL\n",
    "\n",
    "results = jif.utils.get_max_sample_rates(conv, fpga)\n",
    "\n",
    "# Print table\n",
    "df = pd.DataFrame.from_dict(results)\n",
    "df"
   ]
  },
  {
   "cell_type": "code",
   "execution_count": 3,
   "id": "b61291d2",
   "metadata": {},
   "outputs": [
    {
     "data": {
      "text/html": [
       "<div><table id=\"d044ccbe-4f72-4f00-92a7-fc4d0508851b\" class=\"display\"><thead>\n",
       "    <tr style=\"text-align: right;\">\n",
       "      \n",
       "      <th>sample_clock</th>\n",
       "      <th>bit_clock</th>\n",
       "      <th>L</th>\n",
       "      <th>M</th>\n",
       "      <th>quick_configuration_mode</th>\n",
       "    </tr>\n",
       "  </thead></table>\n",
       "<script type=\"text/javascript\">\n",
       "require([\"datatables\"], function (datatables) {\n",
       "    $(document).ready(function () {\n",
       "        var dt_args = {\"columnDefs\": [{\"width\": \"70px\", \"targets\": \"_all\"}], \"paging\": false, \"data\": [[4000000000.0, 20000000000.0, 4, 1, \"913\"], [4000000000.0, 20000000000.0, 8, 2, \"262\"], [1237500000.0, 24750000000.0, 3, 3, \"859\"], [3300000000.0, 24750000000.0, 8, 4, \"1261\"], [1237500000.0, 24750000000.0, 6, 6, \"919\"], [1650000000.0, 24750000000.0, 8, 8, \"1259\"], [618750000.0, 24750000000.0, 6, 12, \"206\"], [618750000.0, 24750000000.0, 8, 16, \"234\"]]};\n",
       "        dt_args = eval_functions(dt_args);\n",
       "        table = $('#d044ccbe-4f72-4f00-92a7-fc4d0508851b').DataTable(dt_args);\n",
       "    });\n",
       "})\n",
       "</script>\n",
       "</div>\n"
      ],
      "text/plain": [
       "   sample_clock     bit_clock  L   M quick_configuration_mode\n",
       "0  4.000000e+09  2.000000e+10  4   1                      913\n",
       "1  4.000000e+09  2.000000e+10  8   2                      262\n",
       "2  1.237500e+09  2.475000e+10  3   3                      859\n",
       "3  3.300000e+09  2.475000e+10  8   4                     1261\n",
       "4  1.237500e+09  2.475000e+10  6   6                      919\n",
       "5  1.650000e+09  2.475000e+10  8   8                     1259\n",
       "6  6.187500e+08  2.475000e+10  6  12                      206\n",
       "7  6.187500e+08  2.475000e+10  8  16                      234"
      ]
     },
     "execution_count": 3,
     "metadata": {},
     "output_type": "execute_result"
    }
   ],
   "source": [
    "# Look at results without FPGA requirements\n",
    "results = jif.utils.get_max_sample_rates(conv)\n",
    "\n",
    "# Print table\n",
    "df = pd.DataFrame.from_dict(results)\n",
    "df"
   ]
  },
  {
   "cell_type": "code",
   "execution_count": null,
   "id": "845e996a",
   "metadata": {},
   "outputs": [],
   "source": []
  }
 ],
 "metadata": {
  "kernelspec": {
   "display_name": "Python 3 (ipykernel)",
   "language": "python",
   "name": "python3"
  },
  "language_info": {
   "codemirror_mode": {
    "name": "ipython",
    "version": 3
   },
   "file_extension": ".py",
   "mimetype": "text/x-python",
   "name": "python",
   "nbconvert_exporter": "python",
   "pygments_lexer": "ipython3",
   "version": "3.8.10"
  }
 },
 "nbformat": 4,
 "nbformat_minor": 5
}
