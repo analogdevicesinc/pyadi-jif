{
 "cells": [
  {
   "cell_type": "markdown",
   "id": "7102f21e",
   "metadata": {},
   "source": [
    "# Max Rate Utility Example\n",
    "\n",
    "This example shows the use of the utility function **get_max_sample_rates** to determine the maximum same rates based on the number of converters (JESD param M) and limitations based on the FPGA itself.\n",
    "\n",
    "For reference:\n",
    "- L is the number of lanes used per link and \n",
    "- Sample clock is in samples per second\n",
    "- Bit clock is equilavent to lane rate (bit clock is the technical name for lane rate)"
   ]
  },
  {
   "cell_type": "markdown",
   "id": "12d2cd31",
   "metadata": {},
   "source": [
    "[![Open In Colab](https://colab.research.google.com/assets/colab-badge.svg)](https://colab.research.google.com/github/analogdevicesinc/pyadi-jif/blob/main/examples/ad9081_rx_max_rate_search.ipynb)"
   ]
  },
  {
   "cell_type": "code",
   "execution_count": null,
   "id": "56bfd236",
   "metadata": {},
   "outputs": [],
   "source": [
    "!pip install -r requirements_ex_util_max_rate.txt\n",
    "!pip install -U -i https://test.pypi.org/simple/ pyadi-jif"
   ]
  },
  {
   "cell_type": "code",
   "execution_count": null,
   "id": "7d3bd819",
   "metadata": {},
   "outputs": [],
   "source": [
    "# This example determines the maximum sample rate based on\n",
    "# FPGA platform and JESD204 class\n",
    "import adijif as jif\n",
    "import numpy as np\n",
    "import pandas as pd\n",
    "from itables import init_notebook_mode\n",
    "init_notebook_mode(all_interactive=True)"
   ]
  },
  {
   "cell_type": "code",
   "execution_count": null,
   "id": "0458c36f",
   "metadata": {},
   "outputs": [],
   "source": [
    "# Set up Converter and FPGA models\n",
    "conv = jif.ad9081_rx()\n",
    "\n",
    "fpga = jif.xilinx()\n",
    "fpga.setup_by_dev_kit_name(\"zc706\")\n",
    "fpga.sys_clk_select = \"GTH34_SYSCLK_QPLL0\"  # Use faster QPLL\n",
    "\n",
    "results = jif.utils.get_max_sample_rates(conv, fpga)\n",
    "\n",
    "# Print table\n",
    "df = pd.DataFrame.from_dict(results)\n",
    "df"
   ]
  },
  {
   "cell_type": "code",
   "execution_count": null,
   "id": "b61291d2",
   "metadata": {},
   "outputs": [],
   "source": [
    "# Look at results without FPGA requirements\n",
    "results = jif.utils.get_max_sample_rates(conv)\n",
    "\n",
    "# Print table\n",
    "df = pd.DataFrame.from_dict(results)\n",
    "df"
   ]
  }
 ],
 "metadata": {
  "kernelspec": {
   "display_name": "Python 3 (ipykernel)",
   "language": "python",
   "name": "python3"
  },
  "language_info": {
   "codemirror_mode": {
    "name": "ipython",
    "version": 3
   },
   "file_extension": ".py",
   "mimetype": "text/x-python",
   "name": "python",
   "nbconvert_exporter": "python",
   "pygments_lexer": "ipython3",
   "version": "3.8.10"
  }
 },
 "nbformat": 4,
 "nbformat_minor": 5
}
